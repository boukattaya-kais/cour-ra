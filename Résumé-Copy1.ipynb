{
 "cells": [
  {
   "cell_type": "code",
   "execution_count": 13,
   "id": "9b8bad81",
   "metadata": {},
   "outputs": [
    {
     "name": "stdout",
     "output_type": "stream",
     "text": [
      " John 32\n"
     ]
    }
   ],
   "source": [
    "x = 32\n",
    "nom = \" John\"\n",
    "print(nom,x)"
   ]
  },
  {
   "cell_type": "code",
   "execution_count": 14,
   "id": "59dcbe7a",
   "metadata": {},
   "outputs": [
    {
     "name": "stdout",
     "output_type": "stream",
     "text": [
      " John a 32 ans\n"
     ]
    }
   ],
   "source": [
    "x = 32\n",
    "nom = \" John\"\n",
    "print(nom,'a',x,'ans')"
   ]
  },
  {
   "cell_type": "code",
   "execution_count": 2,
   "id": "f81ee3dd",
   "metadata": {},
   "outputs": [
    {
     "name": "stdout",
     "output_type": "stream",
     "text": [
      " John a 32 ans \n"
     ]
    }
   ],
   "source": [
    "x = 32\n",
    "nom = \" John\"\n",
    "print (\"{} a {} ans \". format (nom , x))\n"
   ]
  },
  {
   "cell_type": "code",
   "execution_count": 5,
   "id": "27642955",
   "metadata": {},
   "outputs": [
    {
     "name": "stdout",
     "output_type": "stream",
     "text": [
      " John a 32 ans \n"
     ]
    }
   ],
   "source": [
    "x = 32\n",
    "nom = \" John\"\n",
    "bib= \"{} a {} ans \"\n",
    "print(bib.format(nom , x))"
   ]
  },
  {
   "cell_type": "code",
   "execution_count": null,
   "id": "dbb8a60c",
   "metadata": {},
   "outputs": [],
   "source": [
    "nb1 = 4500\n",
    "nb2 = 2575\n",
    "prop=( nb1 + nb2 )/14800\n",
    "print (\"On a {} G et {} C -> prop= {:.2f}\".format(nb1 , nb2 , prop))\n"
   ]
  },
  {
   "cell_type": "code",
   "execution_count": 11,
   "id": "dd9c9112",
   "metadata": {},
   "outputs": [
    {
     "name": "stdout",
     "output_type": "stream",
     "text": [
      "On a 4500 G et 2575 C -> prop  = 0.48\n"
     ]
    }
   ],
   "source": [
    "print (f\"On a { nb1 } G et { nb2 } C -> prop  = { prop:.2f}\")# .2f =>2 chiffres aprés la virgule"
   ]
  },
  {
   "cell_type": "code",
   "execution_count": 131,
   "id": "917fda5f",
   "metadata": {},
   "outputs": [
    {
     "name": "stdout",
     "output_type": "stream",
     "text": [
      "amine\n",
      "ali\n",
      "salah\n"
     ]
    }
   ],
   "source": [
    "a=[\"amine\",\"ali\",\"salah\"]\n",
    "for ele in a:\n",
    "    print(ele)"
   ]
  },
  {
   "cell_type": "code",
   "execution_count": 129,
   "id": "61a251fd",
   "metadata": {},
   "outputs": [
    {
     "name": "stdout",
     "output_type": "stream",
     "text": [
      "amine\n",
      "ali\n",
      "salah\n"
     ]
    }
   ],
   "source": [
    "for i in range(len(a)):\n",
    "    print(a[i])"
   ]
  },
  {
   "cell_type": "code",
   "execution_count": 133,
   "id": "9fada358",
   "metadata": {},
   "outputs": [
    {
     "name": "stdout",
     "output_type": "stream",
     "text": [
      "0 --> amine\n",
      "1 --> ali\n",
      "2 --> salah\n"
     ]
    }
   ],
   "source": [
    "for i, ele in enumerate(a):\n",
    "    print(i,\"-->\",ele)"
   ]
  },
  {
   "cell_type": "code",
   "execution_count": 134,
   "id": "46942ee3",
   "metadata": {},
   "outputs": [
    {
     "name": "stdout",
     "output_type": "stream",
     "text": [
      "a\n",
      "m\n",
      "i\n",
      "n\n",
      "e\n"
     ]
    }
   ],
   "source": [
    "a=\"amine\"\n",
    "for i in  a:\n",
    "    print(i)\n"
   ]
  },
  {
   "cell_type": "code",
   "execution_count": 135,
   "id": "0e7c5fb6",
   "metadata": {},
   "outputs": [
    {
     "name": "stdout",
     "output_type": "stream",
     "text": [
      "0 --> a\n",
      "1 --> m\n",
      "2 --> i\n",
      "3 --> n\n",
      "4 --> e\n"
     ]
    }
   ],
   "source": [
    "for i, ele in enumerate(a):\n",
    "    print(i,\"-->\",ele)"
   ]
  },
  {
   "cell_type": "markdown",
   "id": "d843201a",
   "metadata": {},
   "source": [
    "1.Exercice Palindrome : chaine vers liste"
   ]
  },
  {
   "cell_type": "code",
   "execution_count": 18,
   "id": "9822ffad",
   "metadata": {},
   "outputs": [
    {
     "name": "stdout",
     "output_type": "stream",
     "text": [
      "donner une chaineradar\n",
      "['r', 'a', 'd', 'a', 'r']\n",
      "['r', 'a', 'd', 'a', 'r']\n",
      "palin\n"
     ]
    }
   ],
   "source": [
    "chaine=input(\"donner une chaine\")\n",
    "tableau=[]\n",
    "for i in chaine :\n",
    "     tableau.append(i)#ajoiuter le caractére  a la liste\n",
    "for j in range(tableau.count(\" \")):# \n",
    "    tableau.remove(\" \") #supprimer les espaces\n",
    "tableau2=tableau.copy()# faire une copie du tableau\n",
    "tableau.reverse()  #inverser le tableau\n",
    "print(tableau)\n",
    "print(tableau2)\n",
    "if(tableau==tableau):\n",
    "    print(\"palin\")\n",
    "else :\n",
    "    print(\"pas palin\")\n"
   ]
  },
  {
   "cell_type": "markdown",
   "id": "612cce99",
   "metadata": {},
   "source": [
    "Palindrome :2.  inverser la chaine"
   ]
  },
  {
   "cell_type": "code",
   "execution_count": 20,
   "id": "ece18c66",
   "metadata": {},
   "outputs": [
    {
     "name": "stdout",
     "output_type": "stream",
     "text": [
      "donner une chaineradar\n",
      "radar\n",
      "radar\n",
      "radar\n",
      "palind\n"
     ]
    }
   ],
   "source": [
    "chaine=input(\"donner une chaine\")\n",
    "chaine=chaine.replace(\" \",\"\")\n",
    "print(chaine)\n",
    "chaine2=chaine[::-1]\n",
    "print(chaine)\n",
    "print(chaine2)\n",
    "if(chaine==chaine2):\n",
    "    print(\"palind\")\n",
    "else :\n",
    "    print(\"non palind\")\n"
   ]
  },
  {
   "cell_type": "markdown",
   "id": "a2ceff03",
   "metadata": {},
   "source": [
    "3. Palindrome "
   ]
  },
  {
   "cell_type": "code",
   "execution_count": null,
   "id": "b1ec235b",
   "metadata": {},
   "outputs": [],
   "source": [
    "chaine=input(\"donner une chaine\")\n",
    "ok=True\n",
    "n =len(chaine)\n",
    "for i in range(n // 2):\n",
    "    if chaine[i] != chaine[-i-1]:\n",
    "        ok=False\n",
    "        break\n",
    "if(ok):\n",
    "    print(\"palind\")\n",
    "else :\n",
    "    print(\"non palind\")\n"
   ]
  },
  {
   "cell_type": "markdown",
   "id": "7994913d",
   "metadata": {},
   "source": [
    "# LES LISTES"
   ]
  },
  {
   "cell_type": "markdown",
   "id": "92efa491",
   "metadata": {},
   "source": [
    "Création   :list()\n",
    "Ajout      :append()|insert()|extend()\n",
    "suppression:remove()|pop()|clear()|del\n",
    "Operations :len()|sum()|max()|min()|count()|reverse()|sort()|sorted()\n",
    "recherche  :index()\n",
    "duplication:copy()"
   ]
  },
  {
   "cell_type": "code",
   "execution_count": 5,
   "id": "ba0a7eb8",
   "metadata": {},
   "outputs": [],
   "source": [
    "#L=list()\n",
    "#L=[]\n",
    "L1=list(range(5,16))"
   ]
  },
  {
   "cell_type": "code",
   "execution_count": 6,
   "id": "1d502ef1",
   "metadata": {},
   "outputs": [
    {
     "data": {
      "text/plain": [
       "[5, 6, 7, 8, 9, 10, 11, 12, 13, 14, 15]"
      ]
     },
     "execution_count": 6,
     "metadata": {},
     "output_type": "execute_result"
    }
   ],
   "source": [
    "L1"
   ]
  },
  {
   "cell_type": "code",
   "execution_count": 7,
   "id": "70cbefbc",
   "metadata": {},
   "outputs": [
    {
     "data": {
      "text/plain": [
       "11"
      ]
     },
     "execution_count": 7,
     "metadata": {},
     "output_type": "execute_result"
    }
   ],
   "source": [
    "len(L1)"
   ]
  },
  {
   "cell_type": "code",
   "execution_count": 8,
   "id": "cb5ca6be",
   "metadata": {},
   "outputs": [],
   "source": [
    "#L=list(\"salut\",\"hello\",\"ali\",\"omar\")\n",
    "L=[\"salut\",\"hello\",\"ali\",\"omar\",'hello']"
   ]
  },
  {
   "cell_type": "code",
   "execution_count": 9,
   "id": "f7f520d3",
   "metadata": {},
   "outputs": [
    {
     "data": {
      "text/plain": [
       "['salut', 'hello', 'ali', 'omar', 'hello']"
      ]
     },
     "execution_count": 9,
     "metadata": {},
     "output_type": "execute_result"
    }
   ],
   "source": [
    "L"
   ]
  },
  {
   "cell_type": "code",
   "execution_count": 10,
   "id": "e612f397",
   "metadata": {},
   "outputs": [],
   "source": [
    "L[2]=\"anis\""
   ]
  },
  {
   "cell_type": "code",
   "execution_count": 11,
   "id": "0f2fc14f",
   "metadata": {},
   "outputs": [
    {
     "data": {
      "text/plain": [
       "['salut', 'hello', 'anis', 'omar', 'hello']"
      ]
     },
     "execution_count": 11,
     "metadata": {},
     "output_type": "execute_result"
    }
   ],
   "source": [
    "L"
   ]
  },
  {
   "cell_type": "code",
   "execution_count": 12,
   "id": "05f7e239",
   "metadata": {},
   "outputs": [
    {
     "data": {
      "text/plain": [
       "2"
      ]
     },
     "execution_count": 12,
     "metadata": {},
     "output_type": "execute_result"
    }
   ],
   "source": [
    "L.count (\"hello\")"
   ]
  },
  {
   "cell_type": "code",
   "execution_count": 13,
   "id": "46a90a15",
   "metadata": {},
   "outputs": [
    {
     "name": "stdout",
     "output_type": "stream",
     "text": [
      "['anis', 'hello', 'hello', 'omar', 'salut']\n"
     ]
    }
   ],
   "source": [
    "L.sort()\n",
    "print(L)"
   ]
  },
  {
   "cell_type": "code",
   "execution_count": 19,
   "id": "6e2da4ba",
   "metadata": {},
   "outputs": [],
   "source": [
    "L5 = [5,\"ABC\",3,\"Z\"]\n"
   ]
  },
  {
   "cell_type": "code",
   "execution_count": 20,
   "id": "b6092950",
   "metadata": {},
   "outputs": [
    {
     "ename": "TypeError",
     "evalue": "'<' not supported between instances of 'str' and 'int'",
     "output_type": "error",
     "traceback": [
      "\u001b[1;31m---------------------------------------------------------------------------\u001b[0m",
      "\u001b[1;31mTypeError\u001b[0m                                 Traceback (most recent call last)",
      "Input \u001b[1;32mIn [20]\u001b[0m, in \u001b[0;36m<cell line: 1>\u001b[1;34m()\u001b[0m\n\u001b[1;32m----> 1\u001b[0m \u001b[43mL5\u001b[49m\u001b[38;5;241;43m.\u001b[39;49m\u001b[43msort\u001b[49m\u001b[43m(\u001b[49m\u001b[43m)\u001b[49m\n",
      "\u001b[1;31mTypeError\u001b[0m: '<' not supported between instances of 'str' and 'int'"
     ]
    }
   ],
   "source": [
    "L5.sort()"
   ]
  },
  {
   "cell_type": "code",
   "execution_count": 22,
   "id": "95922727",
   "metadata": {},
   "outputs": [
    {
     "name": "stdout",
     "output_type": "stream",
     "text": [
      "[0, 3, 4, 5]\n"
     ]
    }
   ],
   "source": [
    "L6 = [5,4,3,0]\n",
    "L6.sort()\n",
    "print(L6)"
   ]
  },
  {
   "cell_type": "code",
   "execution_count": 23,
   "id": "59628ff4",
   "metadata": {},
   "outputs": [
    {
     "name": "stdout",
     "output_type": "stream",
     "text": [
      "[5, 4, 3, 0]\n"
     ]
    }
   ],
   "source": [
    "L7 = [5,4,3,0]\n",
    "L7.sort(reverse=True)\n",
    "print(L7)"
   ]
  },
  {
   "cell_type": "code",
   "execution_count": 14,
   "id": "811082f6",
   "metadata": {},
   "outputs": [
    {
     "name": "stdout",
     "output_type": "stream",
     "text": [
      "['salut', 'omar', 'hello', 'hello', 'anis']\n"
     ]
    }
   ],
   "source": [
    " L.sort( reverse = True )\n",
    "print(L)"
   ]
  },
  {
   "cell_type": "code",
   "execution_count": 25,
   "id": "8d04cda6",
   "metadata": {},
   "outputs": [
    {
     "name": "stdout",
     "output_type": "stream",
     "text": [
      "['salut', 'omar', 'sami', 'hello', 'hello', 'anis', 'w', 'o', 'r', 'l', 'd', 'jean']\n"
     ]
    }
   ],
   "source": [
    "L.append(\"jean\")\n",
    "print(L)"
   ]
  },
  {
   "cell_type": "code",
   "execution_count": 26,
   "id": "29651bd4",
   "metadata": {},
   "outputs": [
    {
     "name": "stdout",
     "output_type": "stream",
     "text": [
      "['salut', 'omar', 'sami', 'sami', 'hello', 'hello', 'anis', 'w', 'o', 'r', 'l', 'd', 'jean']\n"
     ]
    }
   ],
   "source": [
    "L.insert (2,\"sami\")\n",
    "print(L)"
   ]
  },
  {
   "cell_type": "code",
   "execution_count": 27,
   "id": "4d83c202",
   "metadata": {},
   "outputs": [
    {
     "name": "stdout",
     "output_type": "stream",
     "text": [
      "['salut', 'omar', 'sami', 'sami', 'hello', 'hello', 'anis', 'w', 'o', 'r', 'l', 'd', 'jean', 'w', 'o', 'r', 'l', 'd']\n"
     ]
    }
   ],
   "source": [
    "L.extend(\"world\")# elemnt ajouter doit etre un sequence\n",
    "print(L)"
   ]
  },
  {
   "cell_type": "code",
   "execution_count": 28,
   "id": "15c95543",
   "metadata": {},
   "outputs": [
    {
     "name": "stdout",
     "output_type": "stream",
     "text": [
      "['salut', 'omar', 'sami', 'sami', 'hello', 'hello', 'anis', 'w', 'o', 'r', 'l', 'd', 'w', 'o', 'r', 'l', 'd']\n"
     ]
    }
   ],
   "source": [
    "L.remove(\"jean\")\n",
    "print(L)"
   ]
  },
  {
   "cell_type": "code",
   "execution_count": 29,
   "id": "f0801635",
   "metadata": {},
   "outputs": [
    {
     "name": "stdout",
     "output_type": "stream",
     "text": [
      "['salut', 'sami', 'sami', 'hello', 'hello', 'anis', 'w', 'o', 'r', 'l', 'd', 'w', 'o', 'r', 'l', 'd']\n"
     ]
    }
   ],
   "source": [
    "del (L[1])\n",
    "print(L)"
   ]
  },
  {
   "cell_type": "code",
   "execution_count": 30,
   "id": "1eb3efa2",
   "metadata": {},
   "outputs": [],
   "source": [
    "del(L[2:5])"
   ]
  },
  {
   "cell_type": "code",
   "execution_count": 31,
   "id": "28e84ced",
   "metadata": {},
   "outputs": [
    {
     "data": {
      "text/plain": [
       "['salut', 'sami', 'anis', 'w', 'o', 'r', 'l', 'd', 'w', 'o', 'r', 'l', 'd']"
      ]
     },
     "execution_count": 31,
     "metadata": {},
     "output_type": "execute_result"
    }
   ],
   "source": [
    "L"
   ]
  },
  {
   "cell_type": "code",
   "execution_count": 32,
   "id": "fcdc69d2",
   "metadata": {},
   "outputs": [
    {
     "name": "stdout",
     "output_type": "stream",
     "text": [
      "['salut', 'sami', 'anis', 'w', 'o', 'r', 'l', 'd', 'w', 'o', 'r', 'l', 'd']\n"
     ]
    }
   ],
   "source": [
    "L2=L.copy()\n",
    "print(L2)"
   ]
  },
  {
   "cell_type": "code",
   "execution_count": 33,
   "id": "c4eca7f1",
   "metadata": {},
   "outputs": [
    {
     "name": "stdout",
     "output_type": "stream",
     "text": [
      "['d', 'l', 'r', 'o', 'w', 'd', 'l', 'r', 'o', 'w', 'anis', 'sami', 'salut']\n"
     ]
    }
   ],
   "source": [
    "L2.reverse()\n",
    "print(L2)"
   ]
  },
  {
   "cell_type": "code",
   "execution_count": 34,
   "id": "428c4277",
   "metadata": {},
   "outputs": [
    {
     "name": "stdout",
     "output_type": "stream",
     "text": [
      "w\n"
     ]
    }
   ],
   "source": [
    "print(max(L2))"
   ]
  },
  {
   "cell_type": "code",
   "execution_count": 35,
   "id": "e45894ad",
   "metadata": {},
   "outputs": [
    {
     "name": "stdout",
     "output_type": "stream",
     "text": [
      "anis\n"
     ]
    }
   ],
   "source": [
    "print(min(L2))"
   ]
  },
  {
   "cell_type": "code",
   "execution_count": 37,
   "id": "9f73878e",
   "metadata": {},
   "outputs": [],
   "source": [
    "L3=[\"salut\",\"hello\",\"ali\",\"omar\",'hello']"
   ]
  },
  {
   "cell_type": "code",
   "execution_count": 39,
   "id": "3c78243e",
   "metadata": {},
   "outputs": [
    {
     "name": "stdout",
     "output_type": "stream",
     "text": [
      "['salut', 'hello', 'ali']\n"
     ]
    }
   ],
   "source": [
    "L3.pop()#=>supprime le dernier element\n",
    "print(L3)"
   ]
  },
  {
   "cell_type": "code",
   "execution_count": 40,
   "id": "b5072faa",
   "metadata": {},
   "outputs": [
    {
     "name": "stdout",
     "output_type": "stream",
     "text": [
      "['salut', 'hello']\n",
      "ali\n"
     ]
    }
   ],
   "source": [
    "v=L3.pop(2)# supprime et affiche ali \n",
    "print(L3)\n",
    "print(v)"
   ]
  },
  {
   "cell_type": "code",
   "execution_count": 41,
   "id": "f71ca509",
   "metadata": {},
   "outputs": [
    {
     "data": {
      "text/plain": [
       "True"
      ]
     },
     "execution_count": 41,
     "metadata": {},
     "output_type": "execute_result"
    }
   ],
   "source": [
    "\"salut\" in L3"
   ]
  },
  {
   "cell_type": "code",
   "execution_count": 42,
   "id": "95cb7215",
   "metadata": {},
   "outputs": [
    {
     "data": {
      "text/plain": [
       "1"
      ]
     },
     "execution_count": 42,
     "metadata": {},
     "output_type": "execute_result"
    }
   ],
   "source": [
    "L3.index(\"hello\")# l'indice de hello dans la liste"
   ]
  },
  {
   "cell_type": "markdown",
   "id": "d438c72e",
   "metadata": {},
   "source": [
    "# Les Chaines"
   ]
  },
  {
   "cell_type": "code",
   "execution_count": 43,
   "id": "d1788043",
   "metadata": {},
   "outputs": [],
   "source": [
    "st = \"langage python\""
   ]
  },
  {
   "cell_type": "code",
   "execution_count": 44,
   "id": "63ab5e9b",
   "metadata": {},
   "outputs": [
    {
     "name": "stdout",
     "output_type": "stream",
     "text": [
      "14\n"
     ]
    }
   ],
   "source": [
    "print(len(st))"
   ]
  },
  {
   "cell_type": "code",
   "execution_count": 45,
   "id": "c7665486",
   "metadata": {},
   "outputs": [
    {
     "data": {
      "text/plain": [
       "'langage R'"
      ]
     },
     "execution_count": 45,
     "metadata": {},
     "output_type": "execute_result"
    }
   ],
   "source": [
    "st.replace(\"python\",\"R\")"
   ]
  },
  {
   "cell_type": "code",
   "execution_count": 47,
   "id": "456a2c97",
   "metadata": {},
   "outputs": [
    {
     "name": "stdout",
     "output_type": "stream",
     "text": [
      "0\n"
     ]
    }
   ],
   "source": [
    "i = st.find(\"langage\") # on cherche  l'indice \"langage\" dans st\n",
    "print(i)"
   ]
  },
  {
   "cell_type": "code",
   "execution_count": 48,
   "id": "e18977ad",
   "metadata": {},
   "outputs": [],
   "source": [
    "s = \"salut, Je m'appelle Bob...\""
   ]
  },
  {
   "cell_type": "code",
   "execution_count": 49,
   "id": "f6914700",
   "metadata": {},
   "outputs": [
    {
     "name": "stdout",
     "output_type": "stream",
     "text": [
      "salut, je m'appelle bob...\n"
     ]
    }
   ],
   "source": [
    "print(s.lower())"
   ]
  },
  {
   "cell_type": "code",
   "execution_count": 50,
   "id": "fdac737c",
   "metadata": {},
   "outputs": [
    {
     "name": "stdout",
     "output_type": "stream",
     "text": [
      "SALUT, JE M'APPELLE BOB...\n"
     ]
    }
   ],
   "source": [
    "print(s.upper())"
   ]
  },
  {
   "cell_type": "code",
   "execution_count": 51,
   "id": "c132ba8f",
   "metadata": {},
   "outputs": [
    {
     "name": "stdout",
     "output_type": "stream",
     "text": [
      "Salut, je m'appelle bob...\n"
     ]
    }
   ],
   "source": [
    "print(s.capitalize())#la premiére lettre en maj"
   ]
  },
  {
   "cell_type": "code",
   "execution_count": 52,
   "id": "0494e87f",
   "metadata": {},
   "outputs": [
    {
     "name": "stdout",
     "output_type": "stream",
     "text": [
      "2\n"
     ]
    }
   ],
   "source": [
    "s = \"abracadabra\"\n",
    "print(s.count(\"bra\"))"
   ]
  },
  {
   "cell_type": "code",
   "execution_count": 53,
   "id": "6826ceee",
   "metadata": {},
   "outputs": [],
   "source": [
    "s = \"un;deux;trois\""
   ]
  },
  {
   "cell_type": "code",
   "execution_count": 54,
   "id": "74d9f7a0",
   "metadata": {},
   "outputs": [
    {
     "data": {
      "text/plain": [
       "['un', 'deux', 'trois']"
      ]
     },
     "execution_count": 54,
     "metadata": {},
     "output_type": "execute_result"
    }
   ],
   "source": [
    "s.split(\";\")"
   ]
  },
  {
   "cell_type": "code",
   "execution_count": 56,
   "id": "3e059519",
   "metadata": {},
   "outputs": [
    {
     "name": "stdout",
     "output_type": "stream",
     "text": [
      "['un', 'deux', 'trois']\n",
      "un;deux;trois\n"
     ]
    }
   ],
   "source": [
    "mot=s.split(\";\")\n",
    "print(mot)\n",
    "print(s)"
   ]
  },
  {
   "cell_type": "code",
   "execution_count": 57,
   "id": "dc676f62",
   "metadata": {},
   "outputs": [
    {
     "name": "stdout",
     "output_type": "stream",
     "text": [
      "un-deux-trois\n"
     ]
    }
   ],
   "source": [
    "s2 = \"-\".join(mot) # concaténation des éléments de mots séparés par \";\"\n",
    "print(s2) # affiche trois;deux;un"
   ]
  },
  {
   "cell_type": "code",
   "execution_count": 60,
   "id": "e45ea61c",
   "metadata": {},
   "outputs": [],
   "source": [
    "chaine = \" Bonjour monsieur le capitaine !\""
   ]
  },
  {
   "cell_type": "code",
   "execution_count": 61,
   "id": "5f367a59",
   "metadata": {},
   "outputs": [
    {
     "data": {
      "text/plain": [
       "True"
      ]
     },
     "execution_count": 61,
     "metadata": {},
     "output_type": "execute_result"
    }
   ],
   "source": [
    "chaine.startswith (\" Bonjour \")"
   ]
  },
  {
   "cell_type": "code",
   "execution_count": 62,
   "id": "3008b07c",
   "metadata": {},
   "outputs": [
    {
     "data": {
      "text/plain": [
       "True"
      ]
     },
     "execution_count": 62,
     "metadata": {},
     "output_type": "execute_result"
    }
   ],
   "source": [
    "chaine.endswith (\"ne !\")"
   ]
  },
  {
   "cell_type": "code",
   "execution_count": 63,
   "id": "8b26e51f",
   "metadata": {},
   "outputs": [
    {
     "data": {
      "text/plain": [
       "' Bonjour monsieur le capitaine !'"
      ]
     },
     "execution_count": 63,
     "metadata": {},
     "output_type": "execute_result"
    }
   ],
   "source": [
    "chaine[0].upper()+chaine[1:] #chaine.capitalize()"
   ]
  },
  {
   "cell_type": "code",
   "execution_count": 64,
   "id": "0f4663fb",
   "metadata": {},
   "outputs": [],
   "source": [
    "chaine =\"    Comment enlever les espaces au dé but et à la fin ?\""
   ]
  },
  {
   "cell_type": "code",
   "execution_count": 65,
   "id": "167e1ec4",
   "metadata": {},
   "outputs": [
    {
     "data": {
      "text/plain": [
       "'Comment enlever les espaces au dé but et à la fin ?'"
      ]
     },
     "execution_count": 65,
     "metadata": {},
     "output_type": "execute_result"
    }
   ],
   "source": [
    "chaine.strip()"
   ]
  },
  {
   "cell_type": "code",
   "execution_count": 67,
   "id": "42437066",
   "metadata": {},
   "outputs": [
    {
     "name": "stdout",
     "output_type": "stream",
     "text": [
      "True\n"
     ]
    }
   ],
   "source": [
    "print(\"abc\".isalpha())# voir aussi s.isdigit(), s.isalnum(), s.isnumeric()..."
   ]
  },
  {
   "cell_type": "code",
   "execution_count": 69,
   "id": "c480334a",
   "metadata": {},
   "outputs": [
    {
     "name": "stdout",
     "output_type": "stream",
     "text": [
      "Rentrez 5 nombres entiers, séparés par des espaces 1 1 2 5 6 \n",
      "['1', '1', '2', '5', '6']\n"
     ]
    }
   ],
   "source": [
    "s = input(\"Rentrez 5 nombres entiers, séparés par des espaces \")\n",
    "t = s.split()\n",
    "print(t)"
   ]
  },
  {
   "cell_type": "markdown",
   "id": "dba3af64",
   "metadata": {},
   "source": [
    "2 dictionnaire "
   ]
  },
  {
   "cell_type": "code",
   "execution_count": 70,
   "id": "ece60065",
   "metadata": {},
   "outputs": [
    {
     "name": "stdout",
     "output_type": "stream",
     "text": [
      "{' nom ': ' girafe ', ' taille ': 5.0, ' poids ': 1100}\n"
     ]
    }
   ],
   "source": [
    "ani1 = {}\n",
    "ani1 [\" nom \"] = \" girafe \"\n",
    "ani1 [\" taille \"] = 5.0\n",
    "ani1 [\" poids \"] = 1100\n",
    "print(ani1)"
   ]
  },
  {
   "cell_type": "markdown",
   "id": "d20dda80",
   "metadata": {},
   "source": [
    "2.\tTableau a une dimenssion"
   ]
  },
  {
   "cell_type": "code",
   "execution_count": null,
   "id": "47f21b1e",
   "metadata": {},
   "outputs": [],
   "source": []
  },
  {
   "cell_type": "code",
   "execution_count": 136,
   "id": "507bf980",
   "metadata": {},
   "outputs": [
    {
     "name": "stdout",
     "output_type": "stream",
     "text": [
      "entrer la tailledu tableau\n",
      "3\n",
      "entre une valeur \n",
      "1\n",
      "entre une valeur \n",
      "2\n",
      "entre une valeur \n",
      "3\n",
      "[1, 2, 3]\n"
     ]
    }
   ],
   "source": [
    "taille=int(input(\"entrer la tailledu tableau\\n\"))\n",
    "T1=[]\n",
    "for i in range(taille):\n",
    "    a=int(input(\"entre une valeur \\n\"))\n",
    "    T1.append(a)\n",
    "print(T1)"
   ]
  },
  {
   "cell_type": "code",
   "execution_count": 137,
   "id": "4f1276a8",
   "metadata": {},
   "outputs": [
    {
     "name": "stdout",
     "output_type": "stream",
     "text": [
      "entrer la tailledu tableau\n",
      "3\n",
      "entre une valeur \n",
      "1\n",
      "entre une valeur \n",
      "2\n",
      "entre une valeur \n",
      "3\n",
      "[1, 2, 3]\n"
     ]
    }
   ],
   "source": [
    "taille=int(input(\"entrer la tailledu tableau\\n\"))\n",
    "T1=[None]*taille\n",
    "for i in range(taille):\n",
    "    T1[i]=int(input(\"entre une valeur \\n\"))\n",
    "print(T1)\n"
   ]
  },
  {
   "cell_type": "markdown",
   "id": "739fc1e2",
   "metadata": {},
   "source": [
    "3.\tTableau deux dimension\n",
    "Saisi et affichage\n"
   ]
  },
  {
   "cell_type": "code",
   "execution_count": 138,
   "id": "9ae3647c",
   "metadata": {},
   "outputs": [
    {
     "name": "stdout",
     "output_type": "stream",
     "text": [
      "N[ 0 ][ 0 ]= 1\n",
      "N[ 0 ][ 1 ]= 2\n",
      "N[ 0 ][ 2 ]= 3\n",
      "N[ 1 ][ 0 ]= 4\n",
      "N[ 1 ][ 1 ]= 5\n",
      "N[ 1 ][ 2 ]= 6\n",
      "[[1, 2, 3], [4, 5, 6]]\n"
     ]
    }
   ],
   "source": [
    "N=[]\n",
    "for i  in range(2):\n",
    "    ligne=[]\n",
    "    for j in range(3):\n",
    "        print('N[',i,'][',j,']=',end=\" \")\n",
    "        ligne.append(int(input()))\n",
    "    N.append(ligne)\n",
    "print(N)\n"
   ]
  },
  {
   "cell_type": "code",
   "execution_count": null,
   "id": "dc6a8e92",
   "metadata": {},
   "outputs": [],
   "source": []
  }
 ],
 "metadata": {
  "kernelspec": {
   "display_name": "Python 3 (ipykernel)",
   "language": "python",
   "name": "python3"
  },
  "language_info": {
   "codemirror_mode": {
    "name": "ipython",
    "version": 3
   },
   "file_extension": ".py",
   "mimetype": "text/x-python",
   "name": "python",
   "nbconvert_exporter": "python",
   "pygments_lexer": "ipython3",
   "version": "3.9.12"
  }
 },
 "nbformat": 4,
 "nbformat_minor": 5
}
